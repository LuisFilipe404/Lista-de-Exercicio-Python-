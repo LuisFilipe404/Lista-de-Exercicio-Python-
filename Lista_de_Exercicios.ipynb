{
  "nbformat": 4,
  "nbformat_minor": 0,
  "metadata": {
    "colab": {
      "provenance": [],
      "authorship_tag": "ABX9TyNp4DJhGEXkRpON5xoCTGNq",
      "include_colab_link": true
    },
    "kernelspec": {
      "name": "python3",
      "display_name": "Python 3"
    },
    "language_info": {
      "name": "python"
    }
  },
  "cells": [
    {
      "cell_type": "markdown",
      "metadata": {
        "id": "view-in-github",
        "colab_type": "text"
      },
      "source": [
        "<a href=\"https://colab.research.google.com/github/LuisFilipe404/Lista-de-Exercicio-Python-/blob/main/Lista_de_Exercicios.ipynb\" target=\"_parent\"><img src=\"https://colab.research.google.com/assets/colab-badge.svg\" alt=\"Open In Colab\"/></a>"
      ]
    },
    {
      "cell_type": "markdown",
      "source": [
        "<h1>Lista de Exercícios</h1>"
      ],
      "metadata": {
        "id": "niICqLRxDWaa"
      }
    },
    {
      "cell_type": "code",
      "execution_count": null,
      "metadata": {
        "colab": {
          "base_uri": "https://localhost:8080/"
        },
        "id": "xrEI7lfiDCSv",
        "outputId": "f2585c25-8746-4759-9088-856493f67fde"
      },
      "outputs": [
        {
          "output_type": "stream",
          "name": "stdout",
          "text": [
            "Alunos - PLP Unifavip 2022.2\n"
          ]
        }
      ],
      "source": [
        "# 1) Faça um Programa que mostre a mensagem \"Alunos - PLP Unifavip 2022.2\" na tela.\n",
        "print('Alunos - PLP Unifavip 2022.2')"
      ]
    },
    {
      "cell_type": "code",
      "source": [
        "#2) Faça um Programa que peça um número e então mostre a mensagem O número informado foi [número].\n",
        "number = int(input(\"Digite um número: \"))\n",
        "print(number)"
      ],
      "metadata": {
        "colab": {
          "base_uri": "https://localhost:8080/"
        },
        "id": "OHAvHAhjDTts",
        "outputId": "763844c5-fd0e-4bf2-a75d-05cdb7257cd6"
      },
      "execution_count": null,
      "outputs": [
        {
          "output_type": "stream",
          "name": "stdout",
          "text": [
            "Digite um número: 3\n",
            "3\n"
          ]
        }
      ]
    },
    {
      "cell_type": "code",
      "source": [
        "#3) Faça um Programa que peça dois números e mostre como resultado a soma.\n",
        "\n",
        "num1 = int(input(\"Digite um número: \"))\n",
        "num2 = int(input(\"Digite outro número: \"))\n",
        "result = num1 + num2\n",
        "\n",
        "print(\"O resultado é\", result)\n"
      ],
      "metadata": {
        "colab": {
          "base_uri": "https://localhost:8080/"
        },
        "id": "bOgVQHqJD0CD",
        "outputId": "f1fe006e-eb4f-4c64-fc50-2bb737aabdc0"
      },
      "execution_count": null,
      "outputs": [
        {
          "output_type": "stream",
          "name": "stdout",
          "text": [
            "Digite um número: 1\n",
            "Digite outro número: 4\n",
            "O resultado é 5\n"
          ]
        }
      ]
    },
    {
      "cell_type": "code",
      "source": [
        "#4) Faça um Programa que peça as 4 notas bimestrais e mostre a média.\n",
        "nota1 = float(input(\"Digite a nota 1: \"))\n",
        "nota2 = float(input(\"Digite a nota 2: \"))\n",
        "nota3 = float(input(\"Digite a nota 3: \"))\n",
        "nota4 = float(input(\"Digite a nota 4: \"))\n",
        "\n",
        "media = (nota1 + nota2 + nota3 + nota4)/4\n",
        "print(\"Sua média é\", media)"
      ],
      "metadata": {
        "colab": {
          "base_uri": "https://localhost:8080/"
        },
        "id": "f69mbZ22ESdk",
        "outputId": "0d30d701-fd0e-49da-d3cf-e5f6d4ff5f3c"
      },
      "execution_count": null,
      "outputs": [
        {
          "output_type": "stream",
          "name": "stdout",
          "text": [
            "Digite a nota 1: 9.5\n",
            "Digite a nota 2: 9\n",
            "Digite a nota 3: 10\n",
            "Digite a nota 4: 4\n",
            "Sua média é 8.125\n"
          ]
        }
      ]
    },
    {
      "cell_type": "code",
      "source": [
        "#5) Faça um Programa que converta metros para centímetros.\n",
        "m = float(input(\"Digite o número em metros: \"))\n",
        "\n",
        "cm = m * 100\n",
        "print(cm,\"cm\")"
      ],
      "metadata": {
        "colab": {
          "base_uri": "https://localhost:8080/"
        },
        "id": "TPPo9uJYFDU9",
        "outputId": "92d3b797-87a6-4e8f-e8b5-5b1732e5b232"
      },
      "execution_count": null,
      "outputs": [
        {
          "output_type": "stream",
          "name": "stdout",
          "text": [
            "Digite o número em metros: 1\n",
            "100.0 cm\n"
          ]
        }
      ]
    },
    {
      "cell_type": "code",
      "source": [
        "#6) Faça um Programa que peça o raio de um círculo, calcule e mostre sua área.\n",
        "\n",
        "raio = float(input(\"Digite o Raio: \"))\n",
        "area = (raio**2) * 3.14\n",
        "\n",
        "print(\"A área é\", area)"
      ],
      "metadata": {
        "colab": {
          "base_uri": "https://localhost:8080/"
        },
        "id": "Xo2BtqvlFgUt",
        "outputId": "49702901-5615-4273-86b8-31544e6ee06d"
      },
      "execution_count": null,
      "outputs": [
        {
          "output_type": "stream",
          "name": "stdout",
          "text": [
            "Digite o Raio: 2\n",
            "A área é 12.56\n"
          ]
        }
      ]
    },
    {
      "cell_type": "code",
      "source": [
        "#7) Faça um Programa que calcule a área de um quadrado, em seguida mostre o dobro desta área para o usuário.\n",
        "lado = float(input(\"Digite o Lado: \"))\n",
        "area = lado*lado\n",
        "\n",
        "print(\"A área é\", area)\n",
        "print(\"O dobro da área é\", area*2)"
      ],
      "metadata": {
        "colab": {
          "base_uri": "https://localhost:8080/"
        },
        "id": "3Jrjo9llGEB0",
        "outputId": "a5afb4e2-5842-4bcb-a18f-03edfc98611b"
      },
      "execution_count": null,
      "outputs": [
        {
          "output_type": "stream",
          "name": "stdout",
          "text": [
            "Digite o Lado: 2\n",
            "A área é 4.0\n",
            "O dobro da área é 8.0\n"
          ]
        }
      ]
    },
    {
      "cell_type": "code",
      "source": [
        "#8) Faça um Programa que pergunte quanto você ganha por hora e o número de horas trabalhadas no mês. Calcule e mostre o \n",
        "#total do seu salário no referido mês.\n",
        "\n",
        "valor = float(input(\"Quanto você ganha por hora? \"))\n",
        "horas = float(input(\"Quantos horas de trabalho no mês? \"))\n",
        "salario = valor * horas\n",
        "\n",
        "print(\"Seu salário é de\", salario)"
      ],
      "metadata": {
        "colab": {
          "base_uri": "https://localhost:8080/"
        },
        "id": "o1aAxN5VGnKM",
        "outputId": "9b162349-efbb-4780-b39a-064519146c04"
      },
      "execution_count": null,
      "outputs": [
        {
          "output_type": "stream",
          "name": "stdout",
          "text": [
            "Quanto você ganha por hora? 10\n",
            "Quantos horas de trabalho no mês? 100\n",
            "Seu salário é de 1000.0\n"
          ]
        }
      ]
    },
    {
      "cell_type": "code",
      "source": [
        "#9) Faça um Programa que peça a temperatura em graus Fahrenheit, transforme e mostre a temperatura em graus Celsius.\n",
        "f = float(input(\"Digite a temperatura em graus Fahrenheit: \"))\n",
        "c = round(5 * ((f-32) / 9), 2)\n",
        "\n",
        "print(c,\"°C\")"
      ],
      "metadata": {
        "colab": {
          "base_uri": "https://localhost:8080/"
        },
        "id": "tJ_HhDzLH9A8",
        "outputId": "5bb8fa46-560d-46d0-dbda-85dd0762054d"
      },
      "execution_count": null,
      "outputs": [
        {
          "output_type": "stream",
          "name": "stdout",
          "text": [
            "Digite a temperatura em graus Fahrenheit: 62\n",
            "16.67 °C\n"
          ]
        }
      ]
    },
    {
      "cell_type": "code",
      "source": [
        "#10) Faça um Programa que peça a temperatura em graus Celsius, transforme e mostre em graus Fahrenheit.\n",
        "c = float(input(\"Digite a temperatura em graus Celcius: \"))\n",
        "f = round((9*c + 160)/5, 2)\n",
        "\n",
        "print(f, \"°F\")"
      ],
      "metadata": {
        "colab": {
          "base_uri": "https://localhost:8080/"
        },
        "id": "tZDcAqNiI5dT",
        "outputId": "2f9f3906-b553-45e8-cd68-78160bcd416e"
      },
      "execution_count": null,
      "outputs": [
        {
          "output_type": "stream",
          "name": "stdout",
          "text": [
            "Digite a temperatura em graus Celcius: 16.67\n",
            "62.01 °F\n"
          ]
        }
      ]
    },
    {
      "cell_type": "code",
      "source": [
        "# 11) Faça um Programa que peça 2 números inteiros e um número real. Calcule e mostre:\n",
        "# a. o produto do dobro do primeiro com metade do segundo.\n",
        "# b. a soma do triplo do primeiro com o terceiro.\n",
        "# c. o terceiro elevado ao cubo.\n",
        "\n",
        "num1 = int(input(\"Digite um número: \"))\n",
        "num2 = int(input(\"Digite outro número: \"))\n",
        "real = float(input(\"Digite um número de ponto flutuante: \"))\n",
        "\n",
        "a = (num1 * 2) * (num2 / 2)\n",
        "print(a)\n",
        "\n",
        "b = (num1 * 3) + real\n",
        "print(b)\n",
        "\n",
        "c = real**3\n",
        "print(c)"
      ],
      "metadata": {
        "colab": {
          "base_uri": "https://localhost:8080/"
        },
        "id": "1x0sHw4HJ-PY",
        "outputId": "09c39b09-582d-4dfc-89b2-ceb992b38e39"
      },
      "execution_count": null,
      "outputs": [
        {
          "output_type": "stream",
          "name": "stdout",
          "text": [
            "Digite um número: 2\n",
            "Digite outro número: 3\n",
            "Digite um número de ponto flutuante: 4\n",
            "6.0\n",
            "10.0\n",
            "64.0\n"
          ]
        }
      ]
    },
    {
      "cell_type": "code",
      "source": [
        "# 12) Tendo como dados de entrada a altura de uma pessoa, construa um programa que calcule seu\n",
        "# peso ideal, usando a seguinte fórmula: (72.7*altura) - 58\n",
        "\n",
        "altura = float(input(\"Digite a altura: \"))\n",
        "pesoIdeal = round((72.7*altura) - 58, 2)\n",
        "\n",
        "print(\"O peso ideal é\", pesoIdeal, \"Kg\")"
      ],
      "metadata": {
        "colab": {
          "base_uri": "https://localhost:8080/"
        },
        "id": "rZqXWRmRKsrs",
        "outputId": "58fcc523-c951-42a0-e3f7-77cc147aeee6"
      },
      "execution_count": null,
      "outputs": [
        {
          "output_type": "stream",
          "name": "stdout",
          "text": [
            "Digite a altura: 1.8\n",
            "O peso ideal é 72.86 Kg\n"
          ]
        }
      ]
    },
    {
      "cell_type": "code",
      "source": [
        "# 13) Tendo como dado de entrada a altura (h) de uma pessoa, construa um algoritmo que calcule seu\n",
        "# peso ideal, utilizando as seguintes fórmulas:\n",
        "# a. Para homens: (72.7*h) - 58\n",
        "# b. Para mulheres: (62.1*h) - 44.7\n",
        "\n",
        "h = float(input(\"Digite a altura: \"))\n",
        "sexo = input(\"Digite seu sexo (m/f): \")\n",
        "\n",
        "if sexo == m:\n",
        "  pesoIdeal = round((72.7*h) - 58, 2)\n",
        "  print(\"O peso ideal é\", pesoIdeal, \"Kg\")\n",
        "else: \n",
        "  pesoIdeal = round((62.1*h) - 44.7, 2)\n",
        "  print(\"O peso ideal é\", pesoIdeal, \"Kg\")"
      ],
      "metadata": {
        "colab": {
          "base_uri": "https://localhost:8080/"
        },
        "id": "vbjfkYnfLTCU",
        "outputId": "b958d873-4027-494b-a4af-721dc471b712"
      },
      "execution_count": null,
      "outputs": [
        {
          "output_type": "stream",
          "name": "stdout",
          "text": [
            "Digite a altura: 1.8\n",
            "Digite seu sexo (m/f): f\n",
            "O peso ideal é 67.08 Kg\n"
          ]
        }
      ]
    },
    {
      "cell_type": "code",
      "source": [
        "# 14) João Papo-de-Pescador, homem de bem, comprou um computador para controlar o rendimento\n",
        "# diário de seu trabalho. Toda vez que ele traz um peso de peixes maior que o estabelecido pelo\n",
        "# regulamento de pesca do estado de São Paulo (50 quilos) deve pagar uma multa de R$ 4,00 por\n",
        "# quilo excedente. João precisa que você faça um programa que leia a variável peso (peso de peixes)\n",
        "# e calcule o excesso. Gravar na variável excesso a quantidade de quilos além do limite e na\n",
        "# variável multa o valor da multa que João deverá pagar. Imprima os dados do programa com as\n",
        "# mensagens adequadas.\n",
        "\n",
        "peso = float(input(\"Digite o peso dos peixes: \"))\n",
        "\n",
        "if peso <= 50:\n",
        "  print(\"Peso no limite do regulamento\")\n",
        "  print(\"Peso:\", peso)\n",
        "else:\n",
        "  excesso = peso - 50\n",
        "  multa = excesso * 4\n",
        "  \n",
        "  print(\"Peso além do limite do regulamento\")\n",
        "  print(\"Excesso:\", excesso)\n",
        "  print(\"Multa:\", multa)\n",
        "\n"
      ],
      "metadata": {
        "colab": {
          "base_uri": "https://localhost:8080/"
        },
        "id": "Q1bNzOuQMBYu",
        "outputId": "c0b35dfc-726c-45c6-b9b6-33447ffcc220"
      },
      "execution_count": null,
      "outputs": [
        {
          "output_type": "stream",
          "name": "stdout",
          "text": [
            "Digite o peso dos peixes: 60\n",
            "Peso além do limite do regulamento\n",
            "Excesso: 10.0\n",
            "Multa: 40.0\n"
          ]
        }
      ]
    },
    {
      "cell_type": "code",
      "source": [
        "# 15) Faça um Programa que pergunte quanto você ganha por hora e o número de horas trabalhadas\n",
        "# no mês. Calcule e mostre o total do seu salário no referido mês, sabendo-se que são descontados\n",
        "# 11% para o Imposto de Renda, 8% para o INSS e 5% para o sindicato, faça um programa que nos dê:\n",
        "#\n",
        "# a. salário bruto.\n",
        "# b. quanto pagou ao INSS.\n",
        "# c. quanto pagou ao sindicato.\n",
        "# d. o salário líquido.\n",
        "# e. calcule os descontos e o salário líquido, conforme a tabela abaixo\n",
        "#\n",
        "# + Salário Bruto : R$\n",
        "# - IR (11%) : R$\n",
        "# - INSS (8%) : R$\n",
        "# - Sindicato ( 5%) : R$\n",
        "# = Salário Liquido : R$\n",
        "\n",
        "valor = float(input(\"Quanto você ganha por hora: \"))\n",
        "horas = float(input(\"Quantas horas você trabalha por mês: \"))\n",
        "\n",
        "salario = horas * valor\n",
        "\n",
        "print(\"Salário:\", salario)\n",
        "\n",
        "ir = salario * 11 / 100\n",
        "\n",
        "print(\"Imposto de Renda:\", ir)\n",
        "\n",
        "inss = salario * 8 / 100\n",
        "\n",
        "print(\"INSS:\", inss)\n",
        "\n",
        "sindicato = salario * 5 / 100\n",
        "\n",
        "print(\"Sindicato:\", sindicato)\n",
        "\n",
        "salarioLiquido = salario - (ir + inss + sindicato)\n",
        "\n",
        "print(\"Salário Líquido:\", salarioLiquido)\n"
      ],
      "metadata": {
        "colab": {
          "base_uri": "https://localhost:8080/"
        },
        "id": "BfLo1nrQYhMD",
        "outputId": "7b89cef6-2e74-40d4-b240-c600696b8eb6"
      },
      "execution_count": null,
      "outputs": [
        {
          "output_type": "stream",
          "name": "stdout",
          "text": [
            "Quanto você ganha por hora: 20\n",
            "Quantas horas você trabalha por mês: 1000\n",
            "Salário: 20000.0\n",
            "Imposto de Renda: 2200.0\n",
            "INSS: 1600.0\n",
            "Sindicato: 1000.0\n",
            "Salário Líquido: 15200.0\n"
          ]
        }
      ]
    },
    {
      "cell_type": "code",
      "source": [
        "# 16) Faça um programa para uma loja de tintas. O programa deverá pedir o tamanho em metros\n",
        "# quadrados da área a ser pintada. Considere que a cobertura da tinta é de 1 litro para cada 3 metros\n",
        "# quadrados e que a tinta é vendida em latas de 18 litros, que custam R$ 80,00. Informe ao usuário a\n",
        "# quantidades de latas de tinta a serem compradas e o preço total.\n",
        "\n",
        "tamanho = float(input(\"Digite o tamanho, em metros quadrados, da área a ser pintada: \"))\n",
        "litros = tamanho / 3\n",
        "lata = litros / 18\n",
        "\n",
        "if (litros % 18) != 0:\n",
        "  lata = int(lata) + 1\n",
        "\n",
        "valor = lata * 80\n",
        "\n",
        "print(\"Quantidade de latas necessárias:\", lata)\n",
        "print(\"Valor:\", valor)\n"
      ],
      "metadata": {
        "colab": {
          "base_uri": "https://localhost:8080/"
        },
        "id": "X5Zu0fdQafFS",
        "outputId": "9fab563d-a92f-405f-9c9e-789b3ac91a90"
      },
      "execution_count": null,
      "outputs": [
        {
          "output_type": "stream",
          "name": "stdout",
          "text": [
            "Digite o tamanho, em metros, da área a ser pintada: 100\n",
            "Quantidade de latas necessárias: 2\n",
            "Valor: 160\n"
          ]
        }
      ]
    },
    {
      "cell_type": "code",
      "source": [
        "# 17) Faça um Programa para uma loja de tintas. O programa deverá pedir o tamanho em metros\n",
        "# quadrados da área a ser pintada. Considere que a cobertura da tinta é de 1 litro para cada 6 metros\n",
        "# quadrados e que a tinta é vendida em latas de 18 litros, que custam R$ 80,00 ou em galões de 3,6\n",
        "# litros, que custam R$ 25,00.\n",
        "# Informe ao usuário as quantidades de tinta a serem compradas e os respectivos preços em 3\n",
        "# situações:\n",
        "# • comprar apenas latas de 18 litros;\n",
        "# • comprar apenas galões de 3,6 litros;\n",
        "# • misturar latas e galões, de forma que o desperdício de tinta seja menor. Acrescente 10% de\n",
        "# folga e sempre arredonde os valores para cima, isto é, considere latas cheias.\n",
        "\n",
        "tamanho = float(input(\"Digite o tamanho, em metros quadrados, da área a ser pintada: \"))\n",
        "litros = tamanho / 6\n",
        "lata = litros / 18\n",
        "galeao = litros / 3.6\n",
        "\n",
        "print('Quantidade de Litros necessária:' , litros, 'Litros')\n",
        "\n",
        "if (litros % 18) != 0:\n",
        "  lata = int(lata) + 1\n",
        "\n",
        "valorLata = lata * 80\n",
        "\n",
        "if (litros % 3.6) != 0:\n",
        "  galeao = int(galeao) + 1\n",
        "\n",
        "valorGaleao = galeao * 25\n",
        "\n",
        "print('\\nComprar apenas latas:', lata, '\\nValor:', valorLata, 'R$')\n",
        "print('\\nComprar apenas galeóes:', galeao, '\\nValor:', valorGaleao, 'R$')\n",
        "\n",
        "if (litros % 18) != 0:\n",
        "  inteiro = int(litros / 18)\n",
        "  resto = (litros / 18) - inteiro\n",
        "  litros = resto * 18\n",
        "  galeao = litros / 3.6\n",
        "\n",
        "  if (litros % 3.6) != 0:\n",
        "    galeao = int(galeao) + 1\n",
        "\n",
        "valorLata = inteiro * 80\n",
        "valorGaleao = galeao * 25\n",
        "\n",
        "total = valorLata + valorGaleao\n",
        "\n",
        "print('\\nComprar os dois:')\n",
        "print('Comprar latas:', inteiro, '\\nValor:', valorLata, 'R$')\n",
        "print('Comprar galeao:', galeao, '\\nValor:', valorGaleao, 'R$')\n",
        "print('Total:', total, 'R$')\n",
        "\n"
      ],
      "metadata": {
        "id": "pfBZAtNzeAEn",
        "colab": {
          "base_uri": "https://localhost:8080/"
        },
        "outputId": "8cbe6367-3d5c-435c-bb30-4452a91d9103"
      },
      "execution_count": null,
      "outputs": [
        {
          "output_type": "stream",
          "name": "stdout",
          "text": [
            "Digite o tamanho, em metros quadrados, da área a ser pintada: 1000\n",
            "Quantidade de Litros necessária: 166.66666666666666 Litros\n",
            "\n",
            "Comprar apenas latas: 10 \n",
            "Valor: 800 R$\n",
            "\n",
            "Comprar apenas galeóes: 47 \n",
            "Valor: 1175 R$\n",
            "\n",
            "Comprar os dois:\n",
            "Comprar latas: 9 \n",
            "Valor: 720 R$\n",
            "Comprar galeao: 2 \n",
            "Valor: 50 R$\n",
            "Total: 770 R$\n"
          ]
        }
      ]
    },
    {
      "cell_type": "code",
      "source": [
        "# 18) Faça um programa que peça o tamanho de um arquivo para download (em MB) e a velocidade de\n",
        "# um link de Internet (em Mbps), calcule e informe o tempo aproximado de download do arquivo usando\n",
        "# este link (em minutos)\n",
        "\n",
        "tamanho = float(input('Digite o tamanho do arquivo (Mb): '))\n",
        "velocidade = float(input('Digite a velocidade da internet (Mbps): '))\n",
        "\n",
        "tempo = tamanho / velocidade\n",
        "tempoM = tempo / 60\n",
        "\n",
        "if (tempo % 60) != 0:\n",
        "  inteiro = int(tempoM)\n",
        "  resto = tempoM - inteiro\n",
        "  segundos = int(resto * 60)\n",
        "  print(inteiro, 'Minutos e', segundos, 'segundos', 'para o download completo')\n",
        "else:\n",
        "  print(tempo, 'para o download completo')"
      ],
      "metadata": {
        "colab": {
          "base_uri": "https://localhost:8080/"
        },
        "id": "45I3Ql3MzAR-",
        "outputId": "9e944c8c-e596-4cec-f879-84c767d750b2"
      },
      "execution_count": null,
      "outputs": [
        {
          "output_type": "stream",
          "name": "stdout",
          "text": [
            "Digite o tamanho do arquivo (Mb): 1000\n",
            "Digite a velocidade da internet (Mbps): 2\n",
            "8 Minutos e 20 segundos para o download completo\n"
          ]
        }
      ]
    },
    {
      "cell_type": "code",
      "source": [
        "# 19) Crie um programa para preencher um vetor (lista) com números inteiros e solicitar um número do\n",
        "# teclado. Pesquisar se esse número existe no vetor. Se existir, imprimir em qual posição do vetor (lista)\n",
        "# foi digitado. Se não existir, imprimir mensagem que não existe.\n",
        "\n",
        "x = 0\n",
        "numeros = [0, 1, 2, 3, 4, 5, 6, 7, 8, 9, 10]\n",
        "\n",
        "pesquisar = int(input('Digite um numero para pesquisar no vetor: '))\n",
        "\n",
        "existe = True\n",
        "\n",
        "print(numeros)\n",
        "for numero in numeros:\n",
        "  if pesquisar == numero:\n",
        "    print('Existe!')\n",
        "    existe = True\n",
        "    break\n",
        "  else:\n",
        "    existe = False\n",
        "\n",
        "if existe == False:\n",
        "  print(\"Não Existe!\")\n"
      ],
      "metadata": {
        "id": "r6E7uNUY6rxe",
        "colab": {
          "base_uri": "https://localhost:8080/"
        },
        "outputId": "39f26bc2-174b-4b21-aafe-bc34bc581557"
      },
      "execution_count": null,
      "outputs": [
        {
          "output_type": "stream",
          "name": "stdout",
          "text": [
            "Digite um numero para pesquisar no vetor: 10\n",
            "[0, 1, 2, 3, 4, 5, 6, 7, 8, 9, 10]\n",
            "Existe!\n"
          ]
        }
      ]
    },
    {
      "cell_type": "code",
      "source": [
        "# 20) Faça um programa que exiba na tela a quantidade de acertos de cada aluno em uma prova, e\n",
        "# caso a nota seja igual ou maior que 60% da quantidade de questões exiba “Classificado”, se não\n",
        "# “Desclassificado”. Para isso crie uma TUPLA que receba o cartão gabarito com as 20 questões, cada\n",
        "# uma com cinco alternativas identificadas por A, B, C, D e E., Depois crie uma lista para cada Aluno e\n",
        "# receba as 20 questões da prova dele e diga se o aluno está Classificado ou Desclassificado. Ao final,\n",
        "# pergunte se o usuário deseja cadastrar outro aluno ou finalizar o programa.\n",
        "# Obs.: Utilizar os conceitos vistos em sala de (Tupla, Lista, Estrutura Condicionais e Repetições);\n",
        "\n",
        "gabarito = ('A', 'B', 'E', 'C', 'C', 'D', 'A', 'A', 'A', 'B', 'C', 'E', 'D', 'A', 'E', 'E', 'C', 'D', 'C', 'D')\n",
        "\n",
        "while True:\n",
        "  aluno = input('Digite o nome do aluno: ')\n",
        "  print('Digite as respostas: ')\n",
        "  respostas = []\n",
        "  contador = 0\n",
        "  \n",
        "  while True:\n",
        "    x = input('Alternativa:')\n",
        "    x = x.upper()\n",
        "    respostas.append(x)\n",
        "    contador = contador + 1\n",
        "\n",
        "    if contador == 20:\n",
        "      break\n",
        "\n",
        "  acertos = 0\n",
        "  erradas = 0\n",
        "\n",
        "  contador = 0\n",
        "\n",
        "  while contador < 20:\n",
        "    if respostas[contador] == gabarito[contador]:\n",
        "      acertos = acertos + 1\n",
        "      contador = contador + 1\n",
        "    else:\n",
        "      erradas = erradas + 1\n",
        "      contador = contador + 1\n",
        "\n",
        "  media = (acertos * 100) / 20\n",
        "\n",
        "  if media < 60:\n",
        "    print(aluno ,'Desclassificado','\\nMédia:', media)\n",
        "  else:\n",
        "    print(aluno, 'Classificado', '\\nMédia', media)\n",
        "  \n",
        "  outroAluno = input('Deseja cadastrar outro aluno (s/n): ')\n",
        "  if outroAluno == 'n' or outroAluno == 'N':\n",
        "    break\n",
        "  else: continue\n",
        "\n",
        "    \n"
      ],
      "metadata": {
        "id": "VvZRc3CCEa6n",
        "colab": {
          "base_uri": "https://localhost:8080/"
        },
        "outputId": "23d3c653-f871-4228-c946-9432eb48b5c7"
      },
      "execution_count": null,
      "outputs": [
        {
          "name": "stdout",
          "output_type": "stream",
          "text": [
            "Digite o nome do aluno: Filipe\n",
            "Digite as respostas: \n",
            "Alternativa:a\n",
            "Alternativa:b\n",
            "Alternativa:c\n",
            "Alternativa:d\n",
            "Alternativa:a\n",
            "Alternativa:b\n",
            "Alternativa:c\n",
            "Alternativa:a\n",
            "Alternativa:d\n",
            "Alternativa:e\n",
            "Alternativa:e\n",
            "Alternativa:a\n",
            "Alternativa:b\n",
            "Alternativa:e\n",
            "Alternativa:c\n",
            "Alternativa:d\n",
            "Alternativa:a\n",
            "Alternativa:a\n",
            "Alternativa:b\n",
            "Alternativa:e\n",
            "Filipe Desclassificado \n",
            "Média: 15.0\n",
            "Deseja cadastrar outro aluno (s/n): n\n"
          ]
        }
      ]
    },
    {
      "cell_type": "code",
      "source": [
        "# 21) Faça um programa que peça do usuário o nome de 6 cidades, depois de inseridas verifique se há\n",
        "# nomes iguais e havendo peça para que sejam inseridos novamente, e também crie a opção do usuário\n",
        "# concatenar dados ao nome da cidade. E por fim, exiba qual o nome de cidade mais extenso.\n",
        "\n",
        "print('Digite o nome de 6 cidades')\n",
        "cidades = []\n",
        "contador = 0\n",
        "existe = False\n",
        "\n",
        "while contador < 6:\n",
        "  data = input()\n",
        "  \n",
        "  for cidade in cidades:\n",
        "    if cidade == data:\n",
        "      print('Cidade já existe, insira outra cidade')\n",
        "      existe = True\n",
        "      break\n",
        "\n",
        "  if existe == False:\n",
        "    cidades.append(data)\n",
        "    contador = contador + 1\n",
        "  else:\n",
        "    existe = False\n",
        "\n",
        "print(cidades)\n"
      ],
      "metadata": {
        "id": "sIvG27iPHE2o",
        "colab": {
          "base_uri": "https://localhost:8080/"
        },
        "outputId": "398f1944-c363-41bb-fe5a-53c1919a9db5"
      },
      "execution_count": null,
      "outputs": [
        {
          "output_type": "stream",
          "name": "stdout",
          "text": [
            "Digite o nome de 6 cidades\n",
            "Caruaru\n",
            "Recife\n",
            "Sao Paulo\n",
            "Rio de Janeiro\n",
            "VItoria\n",
            "Caruaru\n",
            "Cidade já existe, insira outra cidade\n",
            "Brasilia\n",
            "['Caruaru', 'Recife', 'Sao Paulo', 'Rio de Janeiro', 'VItoria', 'Brasilia']\n"
          ]
        }
      ]
    },
    {
      "cell_type": "code",
      "source": [
        "# 22) Faça um Programa que verifique se uma letra digitada é vogal ou consoante.\n",
        "\n",
        "letra = input('Digite uma letra: ')\n",
        "letra = letra.upper()\n",
        "\n",
        "if letra == 'A' or letra == 'E' or letra == 'I' or letra == 'O' or letra == 'U':\n",
        "  print('Vogal')\n",
        "else: print('Consoante')"
      ],
      "metadata": {
        "id": "EsbEIH7-HHf4",
        "colab": {
          "base_uri": "https://localhost:8080/"
        },
        "outputId": "b5122a31-db46-4d65-efe0-b445712670ae"
      },
      "execution_count": null,
      "outputs": [
        {
          "output_type": "stream",
          "name": "stdout",
          "text": [
            "Digite uma letra: a\n",
            "Vogal\n"
          ]
        }
      ]
    },
    {
      "cell_type": "code",
      "source": [
        "# 23) Faça um programa para a leitura de duas notas parciais de um aluno. O programa deve calcular\n",
        "# a média alcançada por aluno e apresentar:\n",
        "# • A mensagem \"Aprovado\", se a média alcançada for maior ou igual a sete;\n",
        "# • A mensagem \"Reprovado\", se a média for menor do que sete;\n",
        "# • A mensagem \"Aprovado com Distinção\", se a média for igual a dez.\n",
        "\n",
        "nota1 = float(input('Digite a nota 1: '))\n",
        "nota2 = float(input('Digite a nota 2: '))\n",
        "\n",
        "media = round((nota1 + nota2) / 2, 1)\n",
        "\n",
        "if media >= 7 and media < 10:\n",
        "  print('Aluno Aprovado!')\n",
        "elif media < 7:\n",
        "  print('Aluno Reprovado')\n",
        "else:\n",
        "  print('Aluno Aprovado com Distinçao')\n",
        "\n",
        "print('Media', media)\n",
        "\n"
      ],
      "metadata": {
        "id": "EwDDWBNJj18F",
        "colab": {
          "base_uri": "https://localhost:8080/"
        },
        "outputId": "9c0eb89b-fd24-4525-f4cb-80500035ff76"
      },
      "execution_count": null,
      "outputs": [
        {
          "output_type": "stream",
          "name": "stdout",
          "text": [
            "Digite a nota 1: 3\n",
            "Digite a nota 2: 5\n",
            "Aluno Reprovado\n",
            "Media 4.0\n"
          ]
        }
      ]
    },
    {
      "cell_type": "code",
      "source": [
        "# 24) Faça um Programa que leia três palavras e mostre a maior palavra entre eles, além de apresentar\n",
        "# quantos caracteres tem na palavra\n",
        "\n",
        "palavra1 = input('Digite uma palavra: ')\n",
        "palavra1Len = len(palavra1)\n",
        "\n",
        "palavra2 = input('Digite outra palavra: ')\n",
        "palavra2Len = len(palavra2)\n",
        "\n",
        "palavra3 = input('Digite mais uma palavra: ')\n",
        "palavra3Len = len(palavra3)\n",
        "\n",
        "if palavra1Len > palavra2Len and palavra1Len > palavra3Len:\n",
        "  print('Palavra {} é a maior com {} caracteres'.format(palavra1, palavra1Len))\n",
        "elif palavra2Len > palavra1Len and palavra2Len > palavra3Len:\n",
        "  print('Palavra {} é a maior com {} caracteres'.format(palavra2, palavra2Len))\n",
        "elif palavra3Len > palavra1Len and palavra3Len > palavra1Len:\n",
        "  print('Palavra {} é a maior com {} caracteres'.format(palavra3, palavra3Len))\n",
        "elif palavra1Len == palavra2Len and palavra1Len == palavra3Len:\n",
        "  print('Todas as palavras possui o mesmo tamanho')\n",
        "elif palavra1Len == palavra2Len and palavra1Len != palavra3Len:\n",
        "  if palavra1Len > palavra3Len:\n",
        "    print('Palavra {} e palavra {} sao do mesmo tamanho e maior que {}'.format(palavra1, palavra2, palavra3))\n",
        "  else:\n",
        "    print('Palavra {} é maior que as demais palavras'.format(palavra3))\n",
        "elif palavra1Len == palavra3Len and palavra1Len != palavra2Len:\n",
        "  if palavra1Len > palavra2Len:\n",
        "    print('Palavra {} e palavra {} sao do mesmo tamanho e maior que {}'.format(palavra1, palavra3, palavra2))\n",
        "  else:\n",
        "    print('Palavra {} é maior que as demais palavras'.format(palavra2))\n",
        "elif palavra2Len == palavra3Len and palavra2Len != palavra1Len:\n",
        "  if palavra2Len > palavra1Len:\n",
        "    print('Palavra {} e palavra {} sao do mesmo tamanho e maior que {}'.format(palavra2, palavra3, palavra1))\n",
        "  else:\n",
        "    print('Palavra {} é maior que as demais palavras'.format(palavra1))\n"
      ],
      "metadata": {
        "colab": {
          "base_uri": "https://localhost:8080/"
        },
        "id": "PYeSBTa_Nwtf",
        "outputId": "2977827f-5dfb-439d-8cea-e75ef510c532"
      },
      "execution_count": null,
      "outputs": [
        {
          "output_type": "stream",
          "name": "stdout",
          "text": [
            "Digite uma palavra: Casa\n",
            "Digite outra palavra: Casa\n",
            "Digite mais uma palavra: OI\n",
            "Palavra Casa e palavra Casa sao do mesmo tamanho e maior que OI\n"
          ]
        }
      ]
    },
    {
      "cell_type": "code",
      "source": [
        "# 25) Faça um Programa que leia três números e mostre o maior e o menor deles.\n",
        "\n",
        "x = int(input('Digite um número: '))\n",
        "y = int(input('Digite outro número: '))\n",
        "z = int(input('Digite mais um número: '))\n",
        "\n",
        "if x > y and x > z:\n",
        "  if y > z:\n",
        "    print('O maior número é {} e o menor número é {}'.format(x, z))\n",
        "  else:\n",
        "    print('O maior número é {} e o menor número é {}'.format(x, y))\n",
        "elif y > x and y > z:\n",
        "  if x > z:\n",
        "    print('O maior número é {} e o menor número é {}'.format(y, z))\n",
        "  else:\n",
        "    print('O maior número é {} e o menor número é {}'.format(y, x))\n",
        "elif z > x and z > y:\n",
        "  if x > y:\n",
        "    print('O maior número é {} e o menor número é {}'.format(z, y))\n",
        "  else:\n",
        "    print('O maior número é {} e o menor número é {}'.format(z, x))"
      ],
      "metadata": {
        "colab": {
          "base_uri": "https://localhost:8080/"
        },
        "id": "cTmbLblPRT8I",
        "outputId": "fe958983-a216-4d9d-895c-3108801d1b41"
      },
      "execution_count": null,
      "outputs": [
        {
          "output_type": "stream",
          "name": "stdout",
          "text": [
            "Digite um número: 3\n",
            "Digite outro número: 4\n",
            "Digite mais um número: 5\n",
            "O maior número é 5 e o menor número é 3\n"
          ]
        }
      ]
    },
    {
      "cell_type": "code",
      "source": [
        "# 26) Faça um programa que pergunte o preço de três produtos e informe qual produto você deve\n",
        "# comprar, sabendo que a decisão é sempre pelo mais barato.\n",
        "\n",
        "preco1 = float(input('Digite o primeiro preço '))\n",
        "preco2 = float(input('Digite o segundo preço '))\n",
        "preco3 = float(input('Digite o terceiro preço '))\n",
        "\n",
        "if preco1 < preco2 and preco1 < preco3:\n",
        "  print('Comprar o produto 1 por', preco1)\n",
        "elif preco2 < preco1 and preco2 < preco3:\n",
        "  print('Comprar o produto 2 por', preco2)\n",
        "elif preco3 < preco1 and preco3 < preco2:\n",
        "  print('Comprar o produto 3 por', preco3)\n",
        "elif preco1 == preco2:\n",
        "  if preco1 > preco3:\n",
        "    print('Comprar produto 1 ou 2 por', preco1)\n",
        "  else:\n",
        "    print('Comprar produto 3 por', preco3)\n",
        "elif preco2 == preco3 and preco2 == preco1:\n",
        "  print('Todos os precos sao iguais')\n",
        "elif preco2 == preco3:\n",
        "  if preco2 > preco1:\n",
        "    print('Comprar produto 2 ou 3 por', preco2)\n",
        "  else:\n",
        "    print('Comprar produto 1 por', preco1)\n",
        "else:\n",
        "  if preco1 > preco2:\n",
        "    print('Comprar produto 1 ou 3 por', preco1)\n",
        "  else:\n",
        "    print('Comprar produto 2 por', preco2)\n"
      ],
      "metadata": {
        "colab": {
          "base_uri": "https://localhost:8080/"
        },
        "id": "B4FU9qg3RPgO",
        "outputId": "0e6fbd27-0e80-412b-a628-e2491ae8646d"
      },
      "execution_count": null,
      "outputs": [
        {
          "output_type": "stream",
          "name": "stdout",
          "text": [
            "Digite o primeiro preço 20\n",
            "Digite o segundo preço 10\n",
            "Digite o terceiro preço 14\n",
            "Comprar o produto 2 por 10.0\n"
          ]
        }
      ]
    },
    {
      "cell_type": "code",
      "source": [
        "# 27) Faça um Programa que leia três números e mostre-os em ordem decrescente.\n",
        "\n",
        "array = []\n",
        "\n",
        "x = int(input('Digite um número: '))\n",
        "y = int(input('Digite outro nümero: '))\n",
        "z = int(input('Digite mais um nümero: '))\n",
        "\n",
        "array.append(x)\n",
        "array.append(y)\n",
        "array.append(z)\n",
        "\n",
        "array.sort(reverse = True)\n",
        "\n",
        "for number in array:\n",
        "  print(number)"
      ],
      "metadata": {
        "colab": {
          "base_uri": "https://localhost:8080/"
        },
        "id": "Uh4f9U9HloIA",
        "outputId": "f1e20a64-5207-4b3f-8a3a-d94ac7497945"
      },
      "execution_count": null,
      "outputs": [
        {
          "output_type": "stream",
          "name": "stdout",
          "text": [
            "Digite um número: 1\n",
            "Digite outro nümero: 2\n",
            "Digite mais um nümero: 3\n",
            "3\n",
            "2\n",
            "1\n"
          ]
        }
      ]
    },
    {
      "cell_type": "code",
      "source": [
        "# 28) Faça um Programa que pergunte em que turno você estuda. Peça para digitar M-matutino ou VVespertino ou N- Noturno. Imprima a mensagem \"Bom Dia!\", \"Boa Tarde!\" ou \"Boa Noite!\" ou \"Valor\n",
        "# Inválido!\", conforme o caso.\n",
        "\n",
        "turno = input('Informe que turno voce estuda (M, V ou N): ')\n",
        "\n",
        "turno = turno.upper()\n",
        "\n",
        "if turno == 'M':\n",
        "  print('Bom Dia!')\n",
        "elif turno == 'V':\n",
        "  print('Boa Tarde!')\n",
        "else:\n",
        "  print('Boa Noite!')"
      ],
      "metadata": {
        "colab": {
          "base_uri": "https://localhost:8080/"
        },
        "id": "eJ9dca2MmcFX",
        "outputId": "811be327-077e-43a0-e9fc-9e701d843da6"
      },
      "execution_count": null,
      "outputs": [
        {
          "output_type": "stream",
          "name": "stdout",
          "text": [
            "Informe que turno voce estuda (M, V ou N): v\n",
            "Boa Tarde!\n"
          ]
        }
      ]
    },
    {
      "cell_type": "code",
      "source": [
        "# 29) As Organizações PLP LTDA resolveram dar um aumento de salário aos seus colaboradores e lhe\n",
        "# contraram para desenvolver o programa que calculará os reajustes. O reajuste acontecerá segundo o\n",
        "# seguinte critério, baseado no salário atual:\n",
        "# • salários até R$ 280,00 (incluindo) : aumento de 20%\n",
        "# • salários entre R$ 280,00 e R$ 700,00 : aumento de 15%\n",
        "# • salários entre R$ 700,00 e R$ 1500,00 : aumento de 10%\n",
        "# • salários de R$ 1500,00 em diante : aumento de 5% Após o aumento ser realizado, informe na\n",
        "# tela:\n",
        "# • o salário antes do reajuste;\n",
        "# • o percentual de aumento aplicado;\n",
        "# • o valor do aumento;\n",
        "# • o novo salário, após o aumento.\n",
        "\n",
        "salario = float(input('Digite o Salário: '))\n",
        "\n",
        "if salario <= 200:\n",
        "  aumento = salario + (salario * 20 / 100)\n",
        "  print('Salário antes:', salario)\n",
        "  print('Percentual: 20%')\n",
        "  print('Valor do aumento:', (salario * 20 /100))\n",
        "  print('Novo Salário:', aumento)\n",
        "elif salario > 200 and salario <= 700:\n",
        "  aumento = salario + (salario * 15 / 100)\n",
        "  print('Salário antes:', salario)\n",
        "  print('Percentual: 15%')\n",
        "  print('Valor do aumento:', (salario * 15 /100))\n",
        "  print('Novo Salário:', aumento)\n",
        "elif salario > 700 and salario <= 1500:\n",
        "  aumento = salario + (salario * 10 / 100)\n",
        "  print('Salário antes:', salario)\n",
        "  print('Percentual: 10%')\n",
        "  print('Valor do aumento:', (salario * 10 /100))\n",
        "  print('Novo Salário:', aumento)\n",
        "else:\n",
        "  aumento = salario + (salario * 5 / 100)\n",
        "  print('Salário antes:', salario)\n",
        "  print('Percentual: 5%')\n",
        "  print('Valor do aumento:', (salario * 5 /100))\n",
        "  print('Novo Salário:', aumento)"
      ],
      "metadata": {
        "colab": {
          "base_uri": "https://localhost:8080/"
        },
        "id": "lp5_GviOm3kP",
        "outputId": "4dabd654-d044-4a89-b56b-e74b3d8da760"
      },
      "execution_count": null,
      "outputs": [
        {
          "output_type": "stream",
          "name": "stdout",
          "text": [
            "Digite o Salário: 1000\n",
            "Salário antes: 1000.0\n",
            "Percentual: 10%\n",
            "Valor do aumento: 100.0\n",
            "Novo Salário: 1100.0\n"
          ]
        }
      ]
    },
    {
      "cell_type": "code",
      "source": [
        "# 31) Faça um programa para o cálculo de uma folha de pagamento, sabendo que os descontos são do\n",
        "# Imposto de Renda, que depende do salário bruto (conforme tabela abaixo) e 3% para o Sindicato e\n",
        "# que o FGTS corresponde a 11% do Salário Bruto, mas não é descontado (é a empresa que deposita).\n",
        "# O Salário Líquido corresponde ao Salário Bruto menos os descontos. O programa deverá pedir ao\n",
        "# usuário o valor da sua hora e a quantidade de horas trabalhadas no mês.\n",
        "# Desconto do IR:\n",
        "# • Salário Bruto até 900 (inclusive) - isento\n",
        "# • Salário Bruto até 1500 (inclusive) - desconto de 5%\n",
        "# • Salário Bruto até 2500 (inclusive) - desconto de 10%\n",
        "# 4\n",
        "# • Salário Bruto acima de 2500 - desconto de 20% Imprima na tela as informações, dispostas\n",
        "# conforme o exemplo abaixo. No exemplo o valor da hora é 5 e a quantidade de hora é 220.\n",
        "#  Salário Bruto: (5 * 220) : R$ 1100,00\n",
        "#  (-) IR (5%) : R$ 55,00\n",
        "#  (-) INSS ( 10%) : R$ 110,00\n",
        "#  FGTS (11%) : R$ 121,00\n",
        "#  Total de descontos : R$ 165,00\n",
        "#  Salário Liquido : R$ 935,00\n",
        "\n",
        "valor = float(input('Quanto recebe por hora: '))\n",
        "horas = float(input('Quantas horas trabalha por mes: '))\n",
        "ir = 0\n",
        "fgts = 11 / 100\n",
        "si = 3 / 100\n",
        "\n",
        "\n",
        "salarioBruto = valor * horas\n",
        "\n",
        "if salarioBruto <= 900:\n",
        "  ir = 0\n",
        "  per = '0%'\n",
        "elif salarioBruto > 900 and salarioBruto <= 1500:\n",
        "  ir = 5 / 100\n",
        "  per = '5%'\n",
        "elif salarioBruto > 1500 and salarioBruto <= 2500:\n",
        "  ir = 1/ 10\n",
        "  per = '10%'\n",
        "else:\n",
        "  ir = 2 / 10\n",
        "  per = '20%'\n",
        "\n",
        "sindicato = salarioBruto * si\n",
        "impostoRenda = salarioBruto * ir\n",
        "desconto = sindicato + impostoRenda\n",
        "\n",
        "print('Salario Bruto: ({valor} * {horas}) = {SB}'.format(valor = valor, horas = horas, SB = salarioBruto))\n",
        "print('(-) IR ({ir}) = {IR}'.format(ir = per, IR = impostoRenda))\n",
        "print('(-) Sindicato (3%) = {SI}'.format(SI = sindicato))\n",
        "print('FGTS (11%) = {FGTS}'.format(FGTS = salarioBruto * fgts))\n",
        "print('Total de Descontos = {descontos}'.format(descontos = desconto))\n",
        "print('Salario Liquido = {sl}'.format(sl = salarioBruto - desconto))\n"
      ],
      "metadata": {
        "colab": {
          "base_uri": "https://localhost:8080/"
        },
        "id": "uxPpu80Goaxg",
        "outputId": "8dd50afe-4e46-4691-f578-03781322cbbc"
      },
      "execution_count": null,
      "outputs": [
        {
          "output_type": "stream",
          "name": "stdout",
          "text": [
            "Quanto recebe por hora: 200\n",
            "Quantas horas trabalha por mes: 5\n",
            "Salario Bruto: (200.0 * 5.0) = 1000.0\n",
            "(-) IR (5%) = 50.0\n",
            "(-) Sindicato (3%) = 30.0\n",
            "FGTS (11%) = 110.0\n",
            "Total de Descontos = 80.0\n",
            "Salario Liquido = 920.0\n"
          ]
        }
      ]
    },
    {
      "cell_type": "code",
      "source": [
        "# 32) Faça um programa que faça 5 perguntas para uma pessoa sobre um crime. As perguntas são:\n",
        "# a. \"Telefonou para a vítima?\"\n",
        "# b. \"Esteve no local do crime?\"\n",
        "# c. \"Mora perto da vítima?\"\n",
        "# d. \"Devia para a vítima?\"\n",
        "# e. \"Já trabalhou com a vítima?\"\n",
        "# O programa deve no final emitir uma classificação sobre a participação da pessoa no crime. Se a\n",
        "# pessoa responder positivamente a 2 questões ela deve ser classificada como \"Suspeita\", entre 3 e 4\n",
        "# como \"Cúmplice\" e 5 como \"Assassino\". Caso contrário, ele será classificado como \"Inocente\".\n",
        "\n",
        "score = 0\n",
        "\n",
        "a = input('Telefonou para vítima? ')\n",
        "a = a.upper()\n",
        "\n",
        "if a == 'SIM':\n",
        "  score = score + 1\n",
        "\n",
        "b = input('Esteve no local do crime? ')\n",
        "b = b.upper()\n",
        "\n",
        "if b == 'SIM':\n",
        "  score = score + 1\n",
        "\n",
        "c = input('Mora perto da vítima? ')\n",
        "c = c.upper()\n",
        "\n",
        "if c == 'SIM':\n",
        "  score = score + 1\n",
        "\n",
        "d = input('Devia para a vítima? ')\n",
        "d = d.upper()\n",
        "\n",
        "if d == 'SIM':\n",
        "  score = score + 1\n",
        "\n",
        "e = input('Ja trabalhou com a vítima? ')\n",
        "e = e.upper()\n",
        "\n",
        "if e == 'SIM':\n",
        "  score = score + 1\n",
        "\n",
        "if score < 2: \n",
        "  print('Inocente')\n",
        "elif score == 2:\n",
        "  print('Suspeita')\n",
        "elif score == 3 or score == 4:\n",
        "  print('Cúmplice')\n",
        "else:\n",
        "  print('Assassino')"
      ],
      "metadata": {
        "colab": {
          "base_uri": "https://localhost:8080/"
        },
        "id": "7zHe8vG_uFT4",
        "outputId": "d214209a-787f-4612-ec17-5c7a6f8692b7"
      },
      "execution_count": null,
      "outputs": [
        {
          "output_type": "stream",
          "name": "stdout",
          "text": [
            "Telefonou para vítima? sim\n",
            "Esteve no local do crime? sim\n",
            "Mora perto da vítima? sim\n",
            "Devia para a vítima? nao\n",
            "Ja trabalhou com a vítima? nao\n",
            "Cúmplice\n"
          ]
        }
      ]
    },
    {
      "cell_type": "code",
      "source": [
        "# 33) Faça um programa que cadastre o nome, a matrícula e duas notas de 13 alunos. Em seguida\n",
        "# imprima a matrícula, o nome e a média de cada um deles.\n",
        "\n",
        "alunos = []\n",
        "matriculas = []\n",
        "medias = []\n",
        "\n",
        "contador = 0\n",
        "\n",
        "while contador < 13:\n",
        "  aluno = input('Digite o nome do aluno: ')\n",
        "  matricula = input('Digite a matrícula do aluno: ')\n",
        "  nota1 = float(input('Digite a nota 1 do aluno: '))\n",
        "  nota2 = float(input('Digite a nota 2 do aluno: '))\n",
        "\n",
        "  media = (nota1 + nota2) / 2\n",
        "\n",
        "  alunos.append(aluno)\n",
        "  matriculas.append(matricula)\n",
        "  medias.append(media)\n",
        "\n",
        "  contador = contador + 1\n",
        "\n",
        "contador = 0\n",
        "\n",
        "while contador < 13:\n",
        "  print('\\nAluno:', alunos[contador])\n",
        "  print('Matrícula:', matriculas[contador])\n",
        "  print('Média:', medias[contador])\n",
        "  contador = contador + 1"
      ],
      "metadata": {
        "id": "cTq52_wGuufJ",
        "colab": {
          "base_uri": "https://localhost:8080/"
        },
        "outputId": "a17d61a6-a4d0-408a-8a23-df9b73643541"
      },
      "execution_count": null,
      "outputs": [
        {
          "output_type": "stream",
          "name": "stdout",
          "text": [
            "Digite o nome do aluno: Filipe\n",
            "Digite a matrícula do aluno: 1\n",
            "Digite a nota 1 do aluno: 10\n",
            "Digite a nota 2 do aluno: 10\n",
            "Digite o nome do aluno: Teste\n",
            "Digite a matrícula do aluno: 4\n",
            "Digite a nota 1 do aluno: 2\n",
            "Digite a nota 2 do aluno: 4\n",
            "Aluno: Filipe\n",
            "Matrícula: 1\n",
            "Média: 10.0 \n",
            "\n",
            "Aluno: Teste\n",
            "Matrícula: 4\n",
            "Média: 3.0 \n",
            "\n"
          ]
        }
      ]
    },
    {
      "cell_type": "code",
      "source": [
        "# 34) Faça um programa que cadastre o nome, a altura, o peso, o cpf e sexo de algumas pessoas. Com\n",
        "# os dados cadastrados, em seguida localizar uma pessoas através do seu CPF e imprimir o seu IMC.\n",
        "# Obs.: Solicitar ao usuário se deseja cadastrar mais pessoas ou parar.\n",
        "\n",
        "cadastros = []\n",
        "cadastro = {\n",
        "   'nome':'nome',\n",
        "   'cpf':'cpf',\n",
        "   'altura': 0,\n",
        "   'peso': 0,\n",
        "   'sexo':'sexo'\n",
        "}\n",
        "\n",
        "def main():\n",
        "  while True:\n",
        "    print(\"Digite um opção para continuar:\")\n",
        "    opcao = input(\"(1) - Cadastrar\\n(2) - Pesquisar\\n(3) - Sair\\n\")\n",
        "    if opcao == '1':\n",
        "      cadastrar()\n",
        "    elif opcao == '2':\n",
        "      pesquisar()\n",
        "    elif opcao == '3':\n",
        "      break\n",
        "    else:\n",
        "      print('Opção inválida!\\n')\n",
        "\n",
        "def cadastrar ():\n",
        "  nome = input('Digite o nome: ')\n",
        "  cpf = input('Digite o cpf: ')\n",
        "  altura = input('Digite a altura: ')\n",
        "  peso = input('Digite o peso: ')\n",
        "  sexo = input('Digite o sexo: ')\n",
        "\n",
        "  cadastro['nome'] = nome\n",
        "  cadastro['cpf'] = cpf\n",
        "  cadastro['altura'] = altura\n",
        "  cadastro['peso'] = peso\n",
        "  cadastro['sexo'] = sexo\n",
        "\n",
        "  cadastros.append(cadastro)\n",
        "\n",
        "  while True:\n",
        "    opcao = input(\"Deseja cadastrar outro usuário? (s/n): \")\n",
        "    opcao = opcao.upper()\n",
        "\n",
        "    if opcao == 'S':\n",
        "      cadastrar()\n",
        "    elif opcao == 'N':\n",
        "      main()\n",
        "    else:\n",
        "      print('Opção Inválida!')\n",
        "\n",
        "def pesquisar():\n",
        "  achei = False\n",
        "  cpf = input(\"Digite seu CPF: \")\n",
        "  for usuario in cadastros:\n",
        "    if usuario['cpf'] == cpf:\n",
        "      print(usuario)\n",
        "      achei = True\n",
        "      break\n",
        "  if achei == False:\n",
        "    print('Não existe cadastro para esse cpf')\n",
        "\n",
        "  while True:\n",
        "    opcao = input(\"Deseja pesquisar outro usuário? (s/n): \")\n",
        "    opcao = opcao.upper()\n",
        "\n",
        "    if opcao == 'S':\n",
        "      pesquisar()\n",
        "    elif opcao == 'N':\n",
        "      main()\n",
        "    else:\n",
        "      print('Opção Inválida!')\n",
        "    \n",
        "main()\n",
        "\n",
        "print(cadastros)\n"
      ],
      "metadata": {
        "id": "Ie1WO6umoCEV",
        "colab": {
          "base_uri": "https://localhost:8080/"
        },
        "outputId": "58318b59-ce2f-4d83-9e9e-0659bfcbf9b1"
      },
      "execution_count": null,
      "outputs": [
        {
          "output_type": "stream",
          "name": "stdout",
          "text": [
            "Digite um opção para continuar:\n",
            "(1) - Cadastrar\n",
            "(2) - Pesquisar\n",
            "(3) - Sair\n",
            "3\n",
            "[]\n"
          ]
        }
      ]
    }
  ]
}